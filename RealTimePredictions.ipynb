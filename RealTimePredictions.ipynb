{
 "cells": [
  {
   "cell_type": "code",
   "execution_count": 1,
   "metadata": {},
   "outputs": [
    {
     "name": "stderr",
     "output_type": "stream",
     "text": [
      "C:\\Users\\keshav\\Anaconda3\\envs\\neuralnets\\lib\\site-packages\\ipykernel_launcher.py:21: DeprecationWarning: `imresize` is deprecated!\n",
      "`imresize` is deprecated in SciPy 1.0.0, and will be removed in 1.2.0.\n",
      "Use ``skimage.transform.resize`` instead.\n",
      "C:\\Users\\keshav\\Anaconda3\\envs\\neuralnets\\lib\\site-packages\\ipykernel_launcher.py:21: DeprecationWarning: `imresize` is deprecated!\n",
      "`imresize` is deprecated in SciPy 1.0.0, and will be removed in 1.2.0.\n",
      "Use ``skimage.transform.resize`` instead.\n"
     ]
    }
   ],
   "source": [
    "# Importing libraries\n",
    "\n",
    "import cv2\n",
    "import pickle\n",
    "import numpy as np\n",
    "import pandas as pd\n",
    "from scipy import misc, ndimage\n",
    "\n",
    "# defining parameters for OpenCV putText function\n",
    "font                   = cv2.FONT_HERSHEY_SIMPLEX\n",
    "bottomLeftCornerOfText = (250,250)\n",
    "fontScale              = 1\n",
    "fontColor              = (255,0,0)\n",
    "lineType               = 2\n",
    "\n",
    "# Function to classify solid waste\n",
    "def classify(img):\n",
    "    # Converting image to black & white\n",
    "    img1 = cv2.cvtColor(img, cv2.COLOR_BGR2GRAY)\n",
    "    # Resizing image\n",
    "    img_new = misc.imresize(img, (28, 28))\n",
    "    # Calculating histograms\n",
    "    hist = cv2.calcHist([img_new],[0],None,[256],[0,256])\n",
    "    hist = hist.reshape(1,hist.shape[0])\n",
    "    # Loading saved classifier\n",
    "    clf = pickle.load(open('XGBmodel.sav', 'rb'))\n",
    "    # Predicting solid waste into one of the 5 categories\n",
    "    k = clf.predict(np.array(hist))\n",
    "    # Writing waste category on frame passed\n",
    "    img = cv2.putText(img, k[0], bottomLeftCornerOfText, font, fontScale, fontColor, lineType)\n",
    "    return img\n",
    "\n",
    "# Creating object to capture video using webcam\n",
    "video_capture = cv2.VideoCapture(0)\n",
    "while True:\n",
    "    # Capturing video\n",
    "    _, frame = video_capture.read()\n",
    "    # Passing individual frames of video\n",
    "    canvas = classify(frame)\n",
    "    # Showing frame returned from classify function\n",
    "    cv2.imshow('Video', canvas)\n",
    "    # Press q to exit webcam\n",
    "    if cv2.waitKey(1) & 0xFF == ord('q'):\n",
    "        break\n",
    "video_capture.release()\n",
    "cv2.destroyAllWindows()"
   ]
  },
  {
   "cell_type": "code",
   "execution_count": null,
   "metadata": {},
   "outputs": [],
   "source": []
  }
 ],
 "metadata": {
  "kernelspec": {
   "display_name": "Python 3",
   "language": "python",
   "name": "python3"
  },
  "language_info": {
   "codemirror_mode": {
    "name": "ipython",
    "version": 3
   },
   "file_extension": ".py",
   "mimetype": "text/x-python",
   "name": "python",
   "nbconvert_exporter": "python",
   "pygments_lexer": "ipython3",
   "version": "3.5.5"
  }
 },
 "nbformat": 4,
 "nbformat_minor": 2
}
