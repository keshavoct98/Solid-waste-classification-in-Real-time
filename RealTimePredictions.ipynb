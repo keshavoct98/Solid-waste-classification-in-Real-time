{
 "cells": [
  {
   "cell_type": "code",
   "execution_count": 1,
   "metadata": {},
   "outputs": [],
   "source": [
    "# Required libraries\n",
    "import cv2\n",
    "import pickle\n",
    "import numpy as np\n",
    "import pandas as pd"
   ]
  },
  {
   "cell_type": "code",
   "execution_count": 8,
   "metadata": {},
   "outputs": [],
   "source": [
    "# parameters for OpenCV putText function\n",
    "font                   = cv2.FONT_HERSHEY_SIMPLEX\n",
    "bottomLeftCornerOfText = (250,250)\n",
    "fontScale              = 1\n",
    "fontColor              = (255,0,0)\n",
    "lineType               = 2\n",
    "\n",
    "# Loading trained XGBoost classifier\n",
    "clf = pickle.load(open('model/XGBmodel.sav', 'rb'))\n",
    "    \n",
    "# Function to classify solid waste\n",
    "def classify(img):\n",
    "    # Converting image to grayscale\n",
    "    gray_img = cv2.cvtColor(img, cv2.COLOR_BGR2GRAY)\n",
    "    gray_img = cv2.resize(gray_img, (512, 384))\n",
    "    # Calculating histograms\n",
    "    hist = cv2.calcHist([gray_img],[0],None,[256],[0,256])\n",
    "    hist = hist.reshape(1,hist.shape[0])\n",
    "    # Predicting waste category\n",
    "    k = clf.predict(np.array(hist))\n",
    "    # Writing predicted class on frame\n",
    "    img = cv2.putText(img, k[0], bottomLeftCornerOfText, font, fontScale, fontColor, lineType)\n",
    "    return img\n",
    "\n",
    "# Creating object to capture video using webcam\n",
    "video_capture = cv2.VideoCapture(0)\n",
    "while True:\n",
    "    # Capturing video\n",
    "    _, frame = video_capture.read()\n",
    "    frame_copy = frame.copy()\n",
    "    # Passing individual frames of video\n",
    "    canvas = classify(frame)\n",
    "    # Showing frame returned from classify function\n",
    "    cv2.imshow('Video', canvas)\n",
    "    # Press q to exit webcam\n",
    "    if cv2.waitKey(1) & 0xFF == ord('q'):\n",
    "        cv2.imwrite('5.jpg', frame_copy)\n",
    "        break\n",
    "video_capture.release()\n",
    "cv2.destroyAllWindows()"
   ]
  },
  {
   "cell_type": "code",
   "execution_count": null,
   "metadata": {},
   "outputs": [],
   "source": []
  }
 ],
 "metadata": {
  "kernelspec": {
   "display_name": "Python 3",
   "language": "python",
   "name": "python3"
  },
  "language_info": {
   "codemirror_mode": {
    "name": "ipython",
    "version": 3
   },
   "file_extension": ".py",
   "mimetype": "text/x-python",
   "name": "python",
   "nbconvert_exporter": "python",
   "pygments_lexer": "ipython3",
   "version": "3.7.3"
  }
 },
 "nbformat": 4,
 "nbformat_minor": 2
}
